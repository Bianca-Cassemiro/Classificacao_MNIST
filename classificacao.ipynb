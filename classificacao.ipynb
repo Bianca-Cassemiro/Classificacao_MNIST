{
  "cells": [
    {
      "cell_type": "markdown",
      "metadata": {
        "id": "3p5goXYpRK8v"
      },
      "source": [
        "# Classificação MNIST"
      ]
    },
    {
      "cell_type": "markdown",
      "metadata": {
        "id": "VU0h_GcyRW0P"
      },
      "source": [
        "Importando algumas bibliotecas **necessárias**"
      ]
    },
    {
      "cell_type": "code",
      "execution_count": 14,
      "metadata": {
        "id": "nKC-Zcy7RF8J"
      },
      "outputs": [],
      "source": [
        "import tensorflow as tf\n",
        "from tensorflow.keras import datasets, layers, models\n",
        "from tensorflow.keras.datasets import mnist\n",
        "from tensorflow.keras.utils import to_categorical"
      ]
    },
    {
      "cell_type": "markdown",
      "metadata": {
        "id": "1znXStRTR8H9"
      },
      "source": [
        "# Carregando o Dataset"
      ]
    },
    {
      "cell_type": "code",
      "execution_count": 15,
      "metadata": {
        "id": "00NZVxAaSBt9"
      },
      "outputs": [],
      "source": [
        "(x_train, y_train),(x_test, y_test) = mnist.load_data()"
      ]
    },
    {
      "cell_type": "code",
      "execution_count": 16,
      "metadata": {
        "id": "6ZkJ_FQnTWu5"
      },
      "outputs": [],
      "source": [
        "train_images = x_train.reshape((60000, 28, 28, 1)).astype('float32') / 255\n",
        "test_images = x_test.reshape((10000, 28, 28, 1)).astype('float32') / 255"
      ]
    },
    {
      "cell_type": "code",
      "execution_count": null,
      "metadata": {
        "colab": {
          "background_save": true
        },
        "id": "h7mjIFKyTzk3"
      },
      "outputs": [],
      "source": [
        "train_labels = to_categorical(y_train)\n",
        "test_labels = to_categorical(y_test)"
      ]
    },
    {
      "cell_type": "code",
      "execution_count": null,
      "metadata": {
        "colab": {
          "background_save": true
        },
        "id": "Tld_PIa8UWMK"
      },
      "outputs": [],
      "source": [
        "model = models.Sequential()\n",
        "model.add(layers.Conv2D(32, (3, 3), activation='relu', input_shape=(28, 28, 1)))\n",
        "model.add(layers.MaxPooling2D((2, 2)))\n",
        "model.add(layers.Conv2D(64, (3, 3), activation='relu'))\n",
        "model.add(layers.MaxPooling2D((2, 2)))\n",
        "model.add(layers.Conv2D(64, (3, 3), activation='relu'))\n",
        "model.add(layers.Flatten())\n",
        "model.add(layers.Dense(64, activation='relu'))\n",
        "model.add(layers.Dense(10, activation='softmax'))"
      ]
    },
    {
      "cell_type": "code",
      "execution_count": null,
      "metadata": {
        "colab": {
          "background_save": true
        },
        "id": "ki5cdX__Ubq3"
      },
      "outputs": [],
      "source": [
        "model.compile(optimizer='adam',\n",
        "              loss='categorical_crossentropy',\n",
        "              metrics=['accuracy'])"
      ]
    },
    {
      "cell_type": "markdown",
      "metadata": {
        "id": "hj6dUoqEUpcg"
      },
      "source": [
        "# Treinando o modelo"
      ]
    },
    {
      "cell_type": "code",
      "execution_count": 17,
      "metadata": {
        "colab": {
          "base_uri": "https://localhost:8080/"
        },
        "id": "1v4_Eg0BUtGA",
        "outputId": "bea70a59-7d5c-4165-e272-57cd9673bdfe"
      },
      "outputs": [
        {
          "output_type": "stream",
          "name": "stdout",
          "text": [
            "Epoch 1/3\n",
            "750/750 [==============================] - 49s 65ms/step - loss: 0.0326 - accuracy: 0.9897 - val_loss: 0.0396 - val_accuracy: 0.9884\n",
            "Epoch 2/3\n",
            "750/750 [==============================] - 45s 60ms/step - loss: 0.0244 - accuracy: 0.9923 - val_loss: 0.0454 - val_accuracy: 0.9872\n",
            "Epoch 3/3\n",
            "750/750 [==============================] - 45s 60ms/step - loss: 0.0210 - accuracy: 0.9931 - val_loss: 0.0437 - val_accuracy: 0.9881\n"
          ]
        },
        {
          "output_type": "execute_result",
          "data": {
            "text/plain": [
              "<keras.src.callbacks.History at 0x7b2a8c6ac310>"
            ]
          },
          "metadata": {},
          "execution_count": 17
        }
      ],
      "source": [
        "model.fit(train_images, train_labels, epochs=3, batch_size=64, validation_split=0.2)\n"
      ]
    },
    {
      "cell_type": "markdown",
      "metadata": {
        "id": "DbLtFNT_U9N6"
      },
      "source": [
        "# Avaliando o modelo"
      ]
    },
    {
      "cell_type": "code",
      "execution_count": 18,
      "metadata": {
        "colab": {
          "base_uri": "https://localhost:8080/"
        },
        "id": "NBZMgHb7U8kT",
        "outputId": "fb4c498c-7859-4f70-e812-92d5b29707dc"
      },
      "outputs": [
        {
          "output_type": "stream",
          "name": "stdout",
          "text": [
            "313/313 [==============================] - 4s 13ms/step - loss: 0.0367 - accuracy: 0.9883\n"
          ]
        }
      ],
      "source": [
        "test_loss, test_acc = model.evaluate(test_images, test_labels)"
      ]
    },
    {
      "cell_type": "markdown",
      "metadata": {
        "id": "BqcjmzMIWJce"
      },
      "source": [
        "# Avaliando com uma imagem"
      ]
    },
    {
      "cell_type": "code",
      "execution_count": null,
      "metadata": {
        "colab": {
          "background_save": true
        },
        "id": "Rg49jEj9WNHp"
      },
      "outputs": [],
      "source": [
        "import numpy as np\n",
        "import matplotlib.pyplot as plt"
      ]
    },
    {
      "cell_type": "code",
      "execution_count": 22,
      "metadata": {
        "id": "3hdJA1orWXKx"
      },
      "outputs": [],
      "source": [
        "index = np.random.randint(0, len(test_images))\n",
        "\n",
        "image = test_images[index]\n",
        "label = test_labels[index]"
      ]
    },
    {
      "cell_type": "code",
      "execution_count": 23,
      "metadata": {
        "colab": {
          "base_uri": "https://localhost:8080/"
        },
        "id": "M6w2OqjJWe6W",
        "outputId": "ef4ebe41-cddd-4017-f617-868e3e7c52b6"
      },
      "outputs": [
        {
          "output_type": "stream",
          "name": "stdout",
          "text": [
            "1/1 [==============================] - 0s 22ms/step\n"
          ]
        }
      ],
      "source": [
        "image = np.expand_dims(image, axis=0)\n",
        "\n",
        "prediction = model.predict(image)\n",
        "\n",
        "predicted_class = np.argmax(prediction)"
      ]
    },
    {
      "cell_type": "code",
      "execution_count": 24,
      "metadata": {
        "colab": {
          "base_uri": "https://localhost:8080/",
          "height": 452
        },
        "id": "6zdXrJG2Whjr",
        "outputId": "e926e19c-f6d8-485d-b2cc-5619505ee40a"
      },
      "outputs": [
        {
          "output_type": "display_data",
          "data": {
            "text/plain": [
              "<Figure size 640x480 with 1 Axes>"
            ],
            "image/png": "[encoded data removed]"
          },
          "metadata": {}
        }
      ],
      "source": [
        "plt.imshow(test_images[index].reshape(28, 28), cmap='gray')\n",
        "plt.title(f'Label: {np.argmax(label)}, Predicted: {predicted_class}')\n",
        "plt.show()"
      ]
    }
  ],
  "metadata": {
    "colab": {
      "provenance": []
    },
    "kernelspec": {
      "display_name": "Python 3",
      "name": "python3"
    },
    "language_info": {
      "name": "python"
    }
  },
  "nbformat": 4,
  "nbformat_minor": 0
}